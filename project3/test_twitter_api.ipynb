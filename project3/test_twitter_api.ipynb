{
 "cells": [
  {
   "cell_type": "code",
   "execution_count": null,
   "metadata": {},
   "outputs": [],
   "source": [
    "import stweet as st\n",
    "from typing import List\n",
    "import string\n",
    "import keyword\n",
    "\n",
    "def input_number_test(input):\n",
    "    test = input()\n",
    "    while tesst.isdigit():\n",
    "        return True\n",
    "    else\n",
    "        return False\n",
    "    \n",
    "def input_keyword_test(tweets: List[st.UserTweetRaw], condition: Callable[[st.UserTweetRaw], bool]):\n",
    "    for tweet in tweets:\n",
    "        if not condition(tweet):\n",
    "            print('{tweet} is invalid')\n",
    "            assert all([condition(tweet)\n",
    "        for tweet in tweets\n",
    "        ]) is True\n",
    "            \n",
    "def output_number_test():\n",
    "    total_num = len(st.UserTweet)\n",
    "    test = input_num\n",
    "    if test == total_num  \n",
    "        print('the output number is right')\n",
    "    else\n",
    "        print('the output number is wrong')\n",
    "        \n",
    "def output_text_test(List[st.TweetOutput]):\n",
    "    for i in len(List[st.TweetOutput])\n",
    "        if keyword==List[i]\n",
    "            return 1\n",
    "        else\n",
    "            return 0\n",
    "        \n",
    "def ccr(keyword, output):\n",
    "    test_data = output\n",
    "    key = keyword\n",
    "    for i in output\n",
    "        test_key=keyword.iskeyword(\"key\")\n",
    "        if test_key = False\n",
    "            print('the output is wrong')\n",
    "        else\n",
    "            print('the output is right')\n",
    "\n",
    "def repeat_test(tweets_1: List[any], tweets_2: List[any]):\n",
    "    assert len(tweets_1) == len(tweets_2)\n",
    "    for tweet_id in range(len(tweets_1)):\n",
    "        if tweets_1[tweet_id] != tweets_2[tweet_id]:\n",
    "            print(tweets_1[tweet_id])\n",
    "            print(tweets_2[tweet_id])\n",
    "            print('the same tweet id, wrong alert')\n",
    "    assert tweets_1 == tweets_2"
   ]
  }
 ],
 "metadata": {
  "kernelspec": {
   "display_name": "Python 3",
   "language": "python",
   "name": "python3"
  },
  "language_info": {
   "codemirror_mode": {
    "name": "ipython",
    "version": 3
   },
   "file_extension": ".py",
   "mimetype": "text/x-python",
   "name": "python",
   "nbconvert_exporter": "python",
   "pygments_lexer": "ipython3",
   "version": "3.7.4"
  }
 },
 "nbformat": 4,
 "nbformat_minor": 2
}
