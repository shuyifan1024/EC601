{
 "cells": [
  {
   "cell_type": "code",
   "execution_count": 67,
   "metadata": {},
   "outputs": [],
   "source": [
    "import tweepy\n",
    "import pandas as pd"
   ]
  },
  {
   "cell_type": "code",
   "execution_count": 68,
   "metadata": {},
   "outputs": [],
   "source": [
    "# input the keys and secret to acquire permission of API\n",
    "consumerKey  = \"5cQw8mSau***********uMQrnk\"\n",
    "consumerSecret  = \"Ig1myJTZOR5VF2HM**********IWbYUpuBfiBfSEuvwto1y\"\n",
    "accessToken = \"1441983537*********81-tPEF6LEk**********BVs8tj023Y\" \n",
    "accessTokenSecret = \"f65k2Qi**********bVIAfU0MjTZJfLg**********hi1M\"\n",
    "auth = tweepy.OAuthHandler(consumerKey , consumerSecret )\n",
    "auth.set_access_token(accessToken, accessTokenSecret)\n",
    "api = tweepy.API(auth)"
   ]
  },
  {
   "cell_type": "code",
   "execution_count": 69,
   "metadata": {},
   "outputs": [
    {
     "name": "stdout",
     "output_type": "stream",
     "text": [
      "Input KEYWORDS that you want to find: twitter\n",
      "Input the NUMBER that you need : 1000\n"
     ]
    }
   ],
   "source": [
    "KEY = input(\"Input KEYWORDS that you want to find: \")\n",
    "NUM = int(input(\"Input the NUMBER that you need : \"))\n",
    "LIST = []  # creat a new list to save data\n",
    "# use the API of search\n",
    "search = tweepy.Cursor(api.search_tweets, KEY).items(NUM)\n",
    "\n",
    "for alltweets in search:\n",
    "    LIST.append(alltweets.text)"
   ]
  },
  {
   "cell_type": "code",
   "execution_count": 70,
   "metadata": {},
   "outputs": [
    {
     "data": {
      "text/html": [
       "<div>\n",
       "<style scoped>\n",
       "    .dataframe tbody tr th:only-of-type {\n",
       "        vertical-align: middle;\n",
       "    }\n",
       "\n",
       "    .dataframe tbody tr th {\n",
       "        vertical-align: top;\n",
       "    }\n",
       "\n",
       "    .dataframe thead th {\n",
       "        text-align: right;\n",
       "    }\n",
       "</style>\n",
       "<table border=\"1\" class=\"dataframe\">\n",
       "  <thead>\n",
       "    <tr style=\"text-align: right;\">\n",
       "      <th></th>\n",
       "      <th>0</th>\n",
       "    </tr>\n",
       "  </thead>\n",
       "  <tbody>\n",
       "    <tr>\n",
       "      <td>0</td>\n",
       "      <td>RT @oudeIacruz: twitter é pra desabafar, se fo...</td>\n",
       "    </tr>\n",
       "    <tr>\n",
       "      <td>1</td>\n",
       "      <td>RT @houkai3rd: ＼4日目／\\n#崩壊3rd Ver.5.1アップデート記念！T...</td>\n",
       "    </tr>\n",
       "    <tr>\n",
       "      <td>2</td>\n",
       "      <td>RT @Genshin_7: ＼5日目／\\n#原神 Ver.2.2アップデート直前！ Twi...</td>\n",
       "    </tr>\n",
       "    <tr>\n",
       "      <td>3</td>\n",
       "      <td>RT @Genshin_7: ＼5日目／\\n#原神 Ver.2.2アップデート直前！ Twi...</td>\n",
       "    </tr>\n",
       "    <tr>\n",
       "      <td>4</td>\n",
       "      <td>RT @Genshin_7: ＼5日目／\\n#原神 Ver.2.2アップデート直前！ Twi...</td>\n",
       "    </tr>\n",
       "    <tr>\n",
       "      <td>...</td>\n",
       "      <td>...</td>\n",
       "    </tr>\n",
       "    <tr>\n",
       "      <td>995</td>\n",
       "      <td>포차쪽에 일방적인 불만이 공론화 감도 아니고 사실도 아닌데 왜 이렇게까지 크게 일을...</td>\n",
       "    </tr>\n",
       "    <tr>\n",
       "      <td>996</td>\n",
       "      <td>RT @Tr_Gayathri: 🔥🔥 https://t.co/4b3n0hmkdk</td>\n",
       "    </tr>\n",
       "    <tr>\n",
       "      <td>997</td>\n",
       "      <td>RT @iomaafiliados: @drclaudiosalud https://t.c...</td>\n",
       "    </tr>\n",
       "    <tr>\n",
       "      <td>998</td>\n",
       "      <td>RT @Genshin_7: ＼5日目／\\n#原神 Ver.2.2アップデート直前！ Twi...</td>\n",
       "    </tr>\n",
       "    <tr>\n",
       "      <td>999</td>\n",
       "      <td>RT @milkshakeharry: @canyonmoonblu She was nex...</td>\n",
       "    </tr>\n",
       "  </tbody>\n",
       "</table>\n",
       "<p>1000 rows × 1 columns</p>\n",
       "</div>"
      ],
      "text/plain": [
       "                                                     0\n",
       "0    RT @oudeIacruz: twitter é pra desabafar, se fo...\n",
       "1    RT @houkai3rd: ＼4日目／\\n#崩壊3rd Ver.5.1アップデート記念！T...\n",
       "2    RT @Genshin_7: ＼5日目／\\n#原神 Ver.2.2アップデート直前！ Twi...\n",
       "3    RT @Genshin_7: ＼5日目／\\n#原神 Ver.2.2アップデート直前！ Twi...\n",
       "4    RT @Genshin_7: ＼5日目／\\n#原神 Ver.2.2アップデート直前！ Twi...\n",
       "..                                                 ...\n",
       "995  포차쪽에 일방적인 불만이 공론화 감도 아니고 사실도 아닌데 왜 이렇게까지 크게 일을...\n",
       "996        RT @Tr_Gayathri: 🔥🔥 https://t.co/4b3n0hmkdk\n",
       "997  RT @iomaafiliados: @drclaudiosalud https://t.c...\n",
       "998  RT @Genshin_7: ＼5日目／\\n#原神 Ver.2.2アップデート直前！ Twi...\n",
       "999  RT @milkshakeharry: @canyonmoonblu She was nex...\n",
       "\n",
       "[1000 rows x 1 columns]"
      ]
     },
     "execution_count": 70,
     "metadata": {},
     "output_type": "execute_result"
    }
   ],
   "source": [
    "#output the data\n",
    "LIST = pd.DataFrame(LIST)\n",
    "LIST"
   ]
  },
  {
   "cell_type": "code",
   "execution_count": null,
   "metadata": {},
   "outputs": [],
   "source": []
  }
 ],
 "metadata": {
  "kernelspec": {
   "display_name": "Python 3",
   "language": "python",
   "name": "python3"
  },
  "language_info": {
   "codemirror_mode": {
    "name": "ipython",
    "version": 3
   },
   "file_extension": ".py",
   "mimetype": "text/x-python",
   "name": "python",
   "nbconvert_exporter": "python",
   "pygments_lexer": "ipython3",
   "version": "3.7.4"
  }
 },
 "nbformat": 4,
 "nbformat_minor": 2
}
